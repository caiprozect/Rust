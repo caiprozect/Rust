{
 "cells": [
  {
   "cell_type": "code",
   "execution_count": 1,
   "metadata": {},
   "outputs": [],
   "source": [
    "%load_ext rust_magic"
   ]
  },
  {
   "cell_type": "code",
   "execution_count": 67,
   "metadata": {},
   "outputs": [
    {
     "name": "stdout",
     "output_type": "stream",
     "text": [
      "Solution: 402\n",
      "Time elapsed: 3259ms\n"
     ]
    }
   ],
   "source": [
    "%%rust\n",
    "use std::time::{Duration, Instant};\n",
    "use std::collections::HashSet;\n",
    "\n",
    "fn factorial(x: i32) -> i32 {\n",
    "    if x == 0 {\n",
    "        1\n",
    "    }\n",
    "    else {\n",
    "        x * factorial(x-1)\n",
    "    }\n",
    "}\n",
    "\n",
    "fn digitFactSum(x: i32) -> i32 {\n",
    "    let q = x / 10;\n",
    "    let r = x % 10;\n",
    "    if q != 0 {\n",
    "        factorial(r) + digitFactSum(q)\n",
    "    }\n",
    "    else {\n",
    "        factorial(r)\n",
    "    }\n",
    "}\n",
    "\n",
    "fn checkChain(x: i32) -> bool {\n",
    "    let mut chainSet = HashSet::new();\n",
    "    let mut nextInChain = x;\n",
    "    \n",
    "    for i in 0..60 {\n",
    "        chainSet.insert(nextInChain);\n",
    "        nextInChain = digitFactSum(nextInChain);\n",
    "    }\n",
    "    \n",
    "    HashSet::len(&chainSet) == 60\n",
    "}\n",
    "\n",
    "fn main() {\n",
    "    let now = Instant::now();\n",
    "    \n",
    "    let mut soln = 0;\n",
    "    let problem = 1000000;\n",
    "    \n",
    "    for i in 1..problem {\n",
    "        if checkChain(i) {\n",
    "            soln += 1;\n",
    "        }\n",
    "    }\n",
    "    \n",
    "    println!(\"Solution: {}\", soln);\n",
    "    \n",
    "    println!(\"Time elapsed: {}ms\", now.elapsed().as_millis());\n",
    "}"
   ]
  },
  {
   "cell_type": "code",
   "execution_count": null,
   "metadata": {},
   "outputs": [],
   "source": []
  }
 ],
 "metadata": {
  "kernelspec": {
   "display_name": "Python 3",
   "language": "python",
   "name": "python3"
  },
  "language_info": {
   "codemirror_mode": {
    "name": "ipython",
    "version": 3
   },
   "file_extension": ".py",
   "mimetype": "text/x-python",
   "name": "python",
   "nbconvert_exporter": "python",
   "pygments_lexer": "ipython3",
   "version": "3.6.9"
  }
 },
 "nbformat": 4,
 "nbformat_minor": 2
}
